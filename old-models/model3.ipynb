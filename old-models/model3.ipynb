{
 "cells": [
  {
   "cell_type": "code",
   "id": "initial_id",
   "metadata": {
    "collapsed": true,
    "ExecuteTime": {
     "end_time": "2025-03-17T03:42:15.051415Z",
     "start_time": "2025-03-17T03:42:15.044404Z"
    }
   },
   "source": [
    "import torch\n",
    "import torch.nn as nn\n",
    "from torchvision import datasets, transforms\n",
    "from tqdm import tqdm\n",
    "\n",
    "from resnet import ResNet18"
   ],
   "outputs": [],
   "execution_count": 102
  },
  {
   "metadata": {
    "ExecuteTime": {
     "end_time": "2025-03-17T03:42:15.075545Z",
     "start_time": "2025-03-17T03:42:15.063509Z"
    }
   },
   "cell_type": "code",
   "source": [
    "torch.manual_seed(42)\n",
    "device = 'cpu'\n",
    "print(f\"Using device: {device}\")"
   ],
   "id": "52aff954b9bdb447",
   "outputs": [
    {
     "name": "stdout",
     "output_type": "stream",
     "text": [
      "Using device: cpu\n"
     ]
    }
   ],
   "execution_count": 103
  },
  {
   "metadata": {
    "ExecuteTime": {
     "end_time": "2025-03-17T03:42:15.509889Z",
     "start_time": "2025-03-17T03:42:15.504907Z"
    }
   },
   "cell_type": "code",
   "source": [
    "def get_data_loaders(batch_size=128, num_workers=2):\n",
    "    transform_train = transforms.Compose([\n",
    "        transforms.RandomCrop(32, padding=4),\n",
    "        transforms.RandomHorizontalFlip(),\n",
    "        transforms.ToTensor(),\n",
    "        transforms.Normalize((0.4914, 0.4822, 0.4465), (0.2023, 0.1994, 0.2010)),\n",
    "    ])\n",
    "\n",
    "    transform_test = transforms.Compose([\n",
    "        transforms.ToTensor(),\n",
    "        transforms.Normalize((0.4914, 0.4822, 0.4465), (0.2023, 0.1994, 0.2010)),\n",
    "    ])\n",
    "\n",
    "    trainset = datasets.CIFAR10(root='./data', train=True, download=True, transform=transform_train)\n",
    "    trainloader = torch.utils.data.DataLoader(trainset, batch_size=batch_size, shuffle=True, num_workers=num_workers)\n",
    "\n",
    "    testset = datasets.CIFAR10(root='./data', train=False, download=True, transform=transform_test)\n",
    "    testloader = torch.utils.data.DataLoader(testset, batch_size=100, shuffle=False, num_workers=num_workers)\n",
    "\n",
    "    classes = ('plane', 'car', 'bird', 'cat', 'deer', 'dog', 'frog', 'horse', 'ship', 'truck')\n",
    "\n",
    "    return trainloader, testloader, classes"
   ],
   "id": "9239dbc92fc40a5d",
   "outputs": [],
   "execution_count": 104
  },
  {
   "metadata": {
    "ExecuteTime": {
     "end_time": "2025-03-17T03:42:15.518156Z",
     "start_time": "2025-03-17T03:42:15.513899Z"
    }
   },
   "cell_type": "code",
   "source": [
    "def train(model, trainloader, criterion, optimizer, scheduler, epoch):\n",
    "    model.train()\n",
    "    train_loss = 0\n",
    "    correct = 0\n",
    "    total = 0\n",
    "\n",
    "    loop = tqdm(trainloader, desc=f\"Epoch {epoch + 1}\")\n",
    "    for batch_idx, (inputs, targets) in enumerate(loop):\n",
    "        inputs, targets = inputs.to(device), targets.to(device)\n",
    "\n",
    "        optimizer.zero_grad()\n",
    "        outputs = model(inputs)\n",
    "        loss = criterion(outputs, targets)\n",
    "        loss.backward()\n",
    "        optimizer.step()\n",
    "\n",
    "        train_loss += loss.item()\n",
    "        _, predicted = outputs.max(1)\n",
    "        total += targets.size(0)\n",
    "        correct += predicted.eq(targets).sum().item()\n",
    "\n",
    "        loop.set_postfix(loss=train_loss / (batch_idx + 1), acc=100. * correct / total)\n",
    "\n",
    "    scheduler.step()\n",
    "\n",
    "    return train_loss / len(trainloader), 100. * correct / total"
   ],
   "id": "2b98781b54160024",
   "outputs": [],
   "execution_count": 105
  },
  {
   "metadata": {
    "ExecuteTime": {
     "end_time": "2025-03-17T03:42:15.665269Z",
     "start_time": "2025-03-17T03:42:15.659566Z"
    }
   },
   "cell_type": "code",
   "source": [
    "def val(model, testloader, criterion):\n",
    "    model.eval()\n",
    "    test_loss = 0\n",
    "    correct = 0\n",
    "    total = 0\n",
    "\n",
    "    with torch.no_grad():\n",
    "        for inputs, targets in testloader:\n",
    "            inputs, targets = inputs.to(device), targets.to(device)\n",
    "            outputs = model(inputs)\n",
    "            loss = criterion(outputs, targets)\n",
    "\n",
    "            test_loss += loss.item()\n",
    "            _, predicted = outputs.max(1)\n",
    "            total += targets.size(0)\n",
    "            correct += predicted.eq(targets).sum().item()\n",
    "\n",
    "    return test_loss / len(testloader), 100.0 * correct / total"
   ],
   "id": "cc2d805438e02544",
   "outputs": [],
   "execution_count": 106
  },
  {
   "metadata": {
    "ExecuteTime": {
     "end_time": "2025-03-17T03:42:15.959576Z",
     "start_time": "2025-03-17T03:42:15.849666Z"
    }
   },
   "cell_type": "code",
   "source": [
    "model = ResNet18().to(device)\n",
    "model.load_state_dict(torch.load('best_model.pt'))"
   ],
   "id": "48333727fe35af25",
   "outputs": [
    {
     "data": {
      "text/plain": [
       "<All keys matched successfully>"
      ]
     },
     "execution_count": 107,
     "metadata": {},
     "output_type": "execute_result"
    }
   ],
   "execution_count": 107
  },
  {
   "metadata": {
    "ExecuteTime": {
     "end_time": "2025-03-17T03:43:23.662722Z",
     "start_time": "2025-03-17T03:42:16.395404Z"
    }
   },
   "cell_type": "code",
   "source": [
    "trainloader, testloader, classes = get_data_loaders()\n",
    "criterion = nn.CrossEntropyLoss()\n",
    "test_loss, test_acc = val(model, testloader, criterion)\n",
    "# model.eval()"
   ],
   "id": "becc262106daac5b",
   "outputs": [],
   "execution_count": 108
  },
  {
   "metadata": {
    "ExecuteTime": {
     "end_time": "2025-03-17T03:43:23.962039Z",
     "start_time": "2025-03-17T03:43:23.958185Z"
    }
   },
   "cell_type": "code",
   "source": "print(f'Test Loss: {test_loss:.4f}, Test Acc: {test_acc:.2f}%')",
   "id": "e0e2540696480c05",
   "outputs": [
    {
     "name": "stdout",
     "output_type": "stream",
     "text": [
      "Test Loss: 0.2110, Test Acc: 94.12%\n"
     ]
    }
   ],
   "execution_count": 109
  },
  {
   "metadata": {
    "ExecuteTime": {
     "end_time": "2025-03-17T03:43:24.058514Z",
     "start_time": "2025-03-17T03:43:24.052624Z"
    }
   },
   "cell_type": "code",
   "source": [
    "def denormalize(tensor):\n",
    "    mean = torch.tensor([0.4914, 0.4822, 0.4465]).view(3, 1, 1)\n",
    "    std = torch.tensor([0.2023, 0.1994, 0.2010]).view(3, 1, 1)\n",
    "    return tensor * std + mean"
   ],
   "id": "e62835fd495e3fbf",
   "outputs": [],
   "execution_count": 110
  },
  {
   "metadata": {
    "ExecuteTime": {
     "end_time": "2025-03-17T03:43:24.381035Z",
     "start_time": "2025-03-17T03:43:24.376005Z"
    }
   },
   "cell_type": "code",
   "source": "",
   "id": "95b29091e34491e2",
   "outputs": [],
   "execution_count": null
  },
  {
   "metadata": {
    "ExecuteTime": {
     "end_time": "2025-03-17T03:43:24.629086Z",
     "start_time": "2025-03-17T03:43:24.624711Z"
    }
   },
   "cell_type": "code",
   "source": "",
   "id": "1d6ebfb976472ca4",
   "outputs": [],
   "execution_count": null
  },
  {
   "metadata": {
    "ExecuteTime": {
     "end_time": "2025-03-17T03:43:25.098311Z",
     "start_time": "2025-03-17T03:43:25.095792Z"
    }
   },
   "cell_type": "code",
   "source": "",
   "id": "346cc3cb7d4cc7c9",
   "outputs": [],
   "execution_count": null
  }
 ],
 "metadata": {
  "kernelspec": {
   "display_name": "Python 3",
   "language": "python",
   "name": "python3"
  },
  "language_info": {
   "codemirror_mode": {
    "name": "ipython",
    "version": 2
   },
   "file_extension": ".py",
   "mimetype": "text/x-python",
   "name": "python",
   "nbconvert_exporter": "python",
   "pygments_lexer": "ipython2",
   "version": "2.7.6"
  }
 },
 "nbformat": 4,
 "nbformat_minor": 5
}
